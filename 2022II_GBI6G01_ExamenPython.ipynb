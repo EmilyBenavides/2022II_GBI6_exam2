{
 "cells": [
  {
   "cell_type": "markdown",
   "metadata": {},
   "source": [
    "<img src=\"https://ecogenomics.github.io/CheckM/img/checkm.png\" width=300 height=240 />\n",
    "<font color='red'>(cambie la imagen por el logo de Ikiam)</font>\n",
    "\n",
    "# EXAMEN PARCIAL PYTHON\n",
    "    \n",
    "\n",
    "## GBI6-2022II: BIOINFORMÁTICA\n",
    "\n",
    "**Apellidos, Nombres** <font color='red'>Benavides, Emily </font>\n",
    "\n",
    "**01-02-2022**"
   ]
  },
  {
   "cell_type": "markdown",
   "metadata": {},
   "source": [
    "### REQUERIMIENTOS PARA EL EXAMEN\n",
    "\n",
    "Utilice de preferencia ```Jupyter``` de Anaconda, dado que tienen que hacer un control de cambios en cada pregunta. \n",
    "\n",
    "Para este examen se requiere dos documentos: \n",
    "\n",
    "1. Archivo ```coati.py``` donde tendrá dos funciones:\n",
    "\n",
    "2. Archivo ```2022II_GBI6_ExamenPython``` donde se llamará las funciones y se obtendrá resultados."
   ]
  },
  {
   "cell_type": "markdown",
   "metadata": {},
   "source": [
    "## Ejercicio 0 [0.5 puntos]\n",
    "Realice cambios al cuaderno de jupyter: \n",
    "- Agregue el logo de la Universidad\n",
    "- Coloque sus datos personales \n",
    "- Escriba una <font color='red'>**tabla**</font> con las características de su computador \n"
   ]
  },
  {
   "cell_type": "markdown",
   "metadata": {},
   "source": [
    "## Ejercicio 1 [1.5 puntos]\n",
    "Inserte la captura de pantalla del curso [PANDAS](https://www.kaggle.com/learn/pandas) de Kaggle (Certificado y evidencia de avance de la página de Kaggle)"
   ]
  },
  {
   "cell_type": "markdown",
   "metadata": {},
   "source": [
    "<img src=certificado.png>\n"
   ]
  },
  {
   "cell_type": "markdown",
   "metadata": {},
   "source": [
    "## Ejercicio 2 [1.5 puntos]\n",
    "Inserte la captura de pantalla del curso [VISUALIZACIÓN](https://www.kaggle.com/learn/data-visualization) de Kaggle (Certificado y evidencia de avance de la página de Kaggle)"
   ]
  },
  {
   "cell_type": "markdown",
   "metadata": {},
   "source": []
  },
  {
   "cell_type": "markdown",
   "metadata": {},
   "source": [
    "## Ejercicio 3 [3 puntos]\n",
    "\n",
    "En su carpeta de examen tiene el documento ```id_coati.txt``` donde se encuentran los identificadores de accesión que debe usar para descargar información. \n",
    "Cree el módulo ```coati.py``` con las siguientes tres **funciones** y sus respectivos **docstring** :\n",
    "    \n",
    "i. ```fasta_downloader```: para cargar ```id_coati.txt``` en ```id_coati```y descargar en **formato genbank** la información correspondiente a los identificadores de accesión usando el **ENTREZ** de Biopythony se guardar en ```coati``` y en ```coati.gb```. \n",
    "\n",
    "ii. ```alignment```: para que el algoritmo extraiga **solamente las secuencias** de la variable ```coati``` y realice un alineamiento usando clustalW. El resultado debe ser ```coati.aln``` y ```coati.dnd``` que deben guardarse en su carpeta de trabajo.  \n",
    "\n",
    "iii ```tree```: para que realice el cálculo de las distancias utilizando ```coati.aln``` y finalmente que imprima en la pantalla el árbol filogenético y guarde en su carpeta de trabajo el arbol como ```coati_phylotree.pdf```\n",
    "\n",
    "iv. Cargue el módulo ```coati``` e **imprima docstring de cada función**.\n"
   ]
  },
  {
   "cell_type": "code",
   "execution_count": 46,
   "metadata": {},
   "outputs": [],
   "source": [
    "# Escriba aquí su código para el ejercicio 3\n",
    "\n",
    "def fasta_downloader(id_coati): \n",
    "    \"\"\"\n",
    "    Funcion que pide como input un archivo que contenga los ids o codigo de acceso a la base de datos del GenBank\n",
    "    y como output genere dos documentos tipo gb y fasta que contengan información de los ids utilizados\n",
    "    \"\"\"\n",
    "    from Bio import Entrez\n",
    "    in_sequence = open(id_coati, \"r\")\n",
    "    out_sequence_gb = open(\"Data/coati.gb\", \"w\")\n",
    "    for linea in in_sequence: \n",
    "        Entrez.email = \"emily.benavides@est.ikiam.edu.ec\"\n",
    "        handle=Entrez.efetch(db=\"nucleotide\" ,id=linea ,rettype=\"gb\", retmode=\"text\")\n",
    "        data=(handle.read())\n",
    "        out_sequence_gb.write(data)\n",
    "    out_sequence_gb.close()    \n",
    "    \n",
    "    in_sequence_fasta = open(id_coati, \"r\")\n",
    "    out_sequence_fasta = open(\"Data/coati.fasta\", \"w\")\n",
    "    for linea in in_sequence_fasta: \n",
    "        Entrez.email = \"emily.benavides@est.ikiam.edu.ec\"\n",
    "        handle=Entrez.efetch(db=\"nucleotide\" ,id=linea ,rettype=\"fasta\", retmode=\"text\")\n",
    "        data=(handle.read())\n",
    "        out_sequence_fasta.write(data)\n",
    "    out_sequence_fasta.close()\n",
    "    \n",
    "    \n",
    "    \n",
    "    \n",
    " ###############3   \n",
    "    from Bio import Entrez\n",
    "    in_sequence = open(id_coati, \"r\")\n",
    "    out_sequence_gb = open(\"Data/coati.gb\", \"w\")\n",
    "    \n",
    "    for linea in in_sequence: \n",
    "        Entrez.email = \"emily.benavides@est.ikiam.edu.ec\"\n",
    "        handle=Entrez.efetch(db=\"nucleotide\" ,id=linea ,rettype=\"gb\", retmode=\"text\")\n",
    "        data=(handle.read())\n",
    "        out_sequence_gb.write(data)\n",
    "    out_sequence_gb.close()\n",
    "    \n",
    "    in_sequence = open(id_coati, \"r\")\n",
    "    \n",
    "    out_sequence_fasta = open(\"Data/coati.fasta\", \"w\")\n",
    "    for linea in in_sequence: \n",
    "        Entrez.email = \"emily.benavides@est.ikiam.edu.ec\"\n",
    "        handle=Entrez.efetch(db=\"nucleotide\" ,id=linea ,rettype=\"fasta\", retmode=\"text\")\n",
    "        data=(handle.read())\n",
    "        out_sequence_fasta.write(data)\n",
    "    out_sequence_fasta.close()\n",
    "    \n",
    "\n",
    "def alignmet (archivo_fasta):\n",
    "    \"\"\"\n",
    "    Función que pide como input un archivo de secuencias multiples tipo fasta y que genere dos archivos que contengan \n",
    "    información de alineación y dendograma de las secuencias utilizadas. \n",
    "    \"\"\"\n",
    "    clustalw_exe = r\"C:\\Program Files (x86)\\ClustalW2\\clustalw2.exe\"\n",
    "    clustalw_cline = ClustalwCommandline(clustalw_exe, infile = file)\n",
    "    assert os.path.isfile(clustalw_exe), \"Clustal_W executable is missing or not found\"\n",
    "    stdout, stderr = clustalw_cline()\n",
    "    print(clustalw_cline)\n",
    "    ClustalAlign = AlignIO.read(\"Data/coati.aln\", \"clustal\")\n",
    "    print(ClustalAlign)\n",
    "    tree = Phylo.read(\"Data/coati.dnd\", \"newick\")\n",
    "\n",
    "def tree (alineacion): \n",
    "    \"\"\"\n",
    "    Funcion que pide como entrada un archivo de alineación con extensión aln y como out un archivo pdf que contiene el arbol \n",
    "    filogenetico\n",
    "    \"\"\"\n",
    "    from Bio.Phylo.TreeConstruction import DistanceCalculator \n",
    "    from Bio.Phylo.TreeConstruction import DistanceTreeConstructor\n",
    "    import matplotlib\n",
    "    import matplotlib.pyplot as plt\n",
    "    \n",
    "    with open(alineacion,\"r\") as aln: \n",
    "        alignment = AlignIO.read(aln,\"clustal\")\n",
    "    calculator = DistanceCalculator('identity')\n",
    "    distance_matrix = calculator.get_distance(alignment)\n",
    "    constructor = DistanceTreeConstructor(calculator)\n",
    "    # Construir el arbol \n",
    "    align_total = constructor.build_tree(alignment)\n",
    "    align_total.rooted = True\n",
    "    Phylo.write(align_total, \"coati.xml\", \"phyloxml\")\n",
    "    align_protein = Phylo.read(file=\"coati.xml\", format= \"phyloxml\")\n",
    "    # Arbol elemental en Matplotlib\n",
    "    #fig = Phylo.draw(cis_tree)\n",
    "    fig = plt.figure(figsize=(30, 40), dpi=100) # create figure & set the size \n",
    "    matplotlib.rc('font', size=20)              # fontsize of the leaf and node labels \n",
    "    matplotlib.rc('xtick', labelsize=20)       # fontsize of the tick labels\n",
    "    matplotlib.rc('ytick', labelsize=20)       # fontsize of the tick labels\n",
    "    axes = fig.add_subplot(1, 1, 1)\n",
    "    Phylo.draw(align_protein, axes=axes)\n",
    "    coati_phylotree.pdf\n",
    "    plt.savefig('Data/coati_phylotree.pdf')  \n",
    "    \n",
    "\n",
    "\n",
    "\n",
    "\n",
    "\n",
    "\n",
    "\n",
    "\n"
   ]
  },
  {
   "cell_type": "code",
   "execution_count": 49,
   "metadata": {},
   "outputs": [
    {
     "name": "stdout",
     "output_type": "stream",
     "text": [
      "Help on function fasta_downloader in module coati:\n",
      "\n",
      "fasta_downloader(id_coati)\n",
      "    Funcion que pide como input un archivo que contenga los ids o codigo de acceso a la base de datos del GenBank\n",
      "    y como output genere dos documentos tipo gb y fasta que contengan información de los ids utilizados\n",
      "\n",
      "Help on function alignmet in module coati:\n",
      "\n",
      "alignmet(archivo_fasta)\n",
      "    Función que pide como input un archivo de secuencias multiples tipo fasta y que genere dos archivos que contengan \n",
      "    información de alineación y dendograma de las secuencias utilizadas.\n",
      "\n",
      "Help on function tree in module coati:\n",
      "\n",
      "tree(alineacion)\n",
      "\n"
     ]
    }
   ],
   "source": [
    "import coati as ct \n",
    "help(ct.fasta_downloader)\n",
    "help(ct.alignmet)\n",
    "help(ct.tree)"
   ]
  },
  {
   "cell_type": "markdown",
   "metadata": {},
   "source": [
    "\n",
    "## Ejercicio 4 [1.5 puntos]\n",
    "\n",
    "Escriba una o dos líneas de código para usar las funciones ```fasta_downloader```, ```alignment``` y ```tree```: \n",
    "\n",
    "i. Descargue la data en ```coati``` y guarde como ```coati.gdb```.  \n",
    "\n",
    "ii. Alinee las secuencias de ```coati``` y obtenga ```coati.aln``` y ```coati.dnd```.\n",
    "\n",
    "iii. Construya e **interprete** el arbol filogenético y guarde en ```coati_phylotree.pdf```."
   ]
  },
  {
   "cell_type": "code",
   "execution_count": 53,
   "metadata": {},
   "outputs": [],
   "source": [
    "# Escriba aquí su código para el ejercicio 4\n",
    "import coati as ct \n",
    "\n",
    "ct.fasta_downloader(\"Data/coati.txt\")\n",
    "ct.alignment(\"Data/coati.fasta\")\n",
    "ct.tree(\"Data/coati.aln\")"
   ]
  },
  {
   "cell_type": "markdown",
   "metadata": {},
   "source": [
    "## Ejercicio 5 [1.5 puntos]\n",
    "\n",
    "Con las secuencias de ADN de ```coati```, realice lo siguiente: \n",
    "\n",
    "i. la traducción y cálculo del peso molecular (**molecular_weight**) y el índice de estabilidad (**instability_index**) de los péptidos resultantes. \n",
    "\n",
    "ii. una gráfica tipo [joinplot](https://seaborn.pydata.org/generated/seaborn.jointplot.html#seaborn.jointplot) utilizando los parámetros de peso molecular e índice de estabilidad. Edite color, tamaño y tipo de puntos, asimismo etiquete adecuadamente el título y los ejes.\n",
    "\n",
    "iii. guarde la figura como ```coati.png``` con una resolución de 300dpi.\n",
    "\n",
    "iv. interprete la figura resultante"
   ]
  },
  {
   "cell_type": "code",
   "execution_count": 4,
   "metadata": {},
   "outputs": [],
   "source": [
    "# Escriba aquí su código para el ejercicio 5\n",
    "\n",
    "\n",
    "\n",
    "\n",
    "\n",
    "\n",
    "\n",
    "\n",
    "\n",
    "\n",
    "\n",
    "\n",
    "\n",
    "\n",
    "\n"
   ]
  },
  {
   "cell_type": "markdown",
   "metadata": {},
   "source": [
    "## Ejercicio 6 [0.5 puntos]\n",
    "\n",
    "\n",
    "1. Cree un archivo ```Readme.md``` que debe tener lo siguiente:\n",
    "- Datos personales\n",
    "- Características del computador\n",
    "- Versión de Python/Anaconda y de cada uno de los módulos/paquetes y utilizados\n",
    "- Explicación de la data utilizada\n",
    "\n",
    "2. Asegurarse que su repositorio tiene las carpetas ```data``` e ```img``` con los archivos que ha ido guardando en las preguntas anteriores.  \n",
    "3. Realice al menos 1 control de la versión (commits) por cada ejercicio (del 1 al 5), con un mensaje que inicie como: \n",
    "\n",
    "```sh \n",
    "Carlitos Alimaña ha realizado el ejercicio 1  \n",
    "```\n",
    "```sh \n",
    "Carlitos Alimaña ha realizado el ejercicio 2\n",
    "```\n",
    "```sh \n",
    "...\n",
    "```\n"
   ]
  },
  {
   "cell_type": "code",
   "execution_count": null,
   "metadata": {},
   "outputs": [],
   "source": []
  }
 ],
 "metadata": {
  "kernelspec": {
   "display_name": "Python 3 (ipykernel)",
   "language": "python",
   "name": "python3"
  },
  "language_info": {
   "codemirror_mode": {
    "name": "ipython",
    "version": 3
   },
   "file_extension": ".py",
   "mimetype": "text/x-python",
   "name": "python",
   "nbconvert_exporter": "python",
   "pygments_lexer": "ipython3",
   "version": "3.10.2"
  },
  "latex_envs": {
   "LaTeX_envs_menu_present": true,
   "autoclose": false,
   "autocomplete": true,
   "bibliofile": "biblio.bib",
   "cite_by": "apalike",
   "current_citInitial": 1,
   "eqLabelWithNumbers": true,
   "eqNumInitial": 1,
   "hotkeys": {
    "equation": "Ctrl-E",
    "itemize": "Ctrl-I"
   },
   "labels_anchors": false,
   "latex_user_defs": false,
   "report_style_numbering": false,
   "user_envs_cfg": false
  },
  "toc": {
   "base_numbering": 1,
   "nav_menu": {},
   "number_sections": true,
   "sideBar": false,
   "skip_h1_title": false,
   "title_cell": "Table of Contents",
   "title_sidebar": "Contents",
   "toc_cell": false,
   "toc_position": {
    "height": "1152.67px",
    "left": "41px",
    "top": "110px",
    "width": "253.458px"
   },
   "toc_section_display": true,
   "toc_window_display": false
  },
  "varInspector": {
   "cols": {
    "lenName": 16,
    "lenType": 16,
    "lenVar": 40
   },
   "kernels_config": {
    "python": {
     "delete_cmd_postfix": "",
     "delete_cmd_prefix": "del ",
     "library": "var_list.py",
     "varRefreshCmd": "print(var_dic_list())"
    },
    "r": {
     "delete_cmd_postfix": ") ",
     "delete_cmd_prefix": "rm(",
     "library": "var_list.r",
     "varRefreshCmd": "cat(var_dic_list()) "
    }
   },
   "types_to_exclude": [
    "module",
    "function",
    "builtin_function_or_method",
    "instance",
    "_Feature"
   ],
   "window_display": false
  }
 },
 "nbformat": 4,
 "nbformat_minor": 4
}
